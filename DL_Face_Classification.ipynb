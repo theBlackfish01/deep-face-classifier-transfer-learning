{
 "cells": [
  {
   "cell_type": "markdown",
   "metadata": {
    "id": "wvAjM5Fj38Vd"
   },
   "source": [
    "#Face Classification with ResNet50 and MobileNet\n",
    "## Dataset from Kaggle"
   ]
  },
  {
   "cell_type": "markdown",
   "metadata": {
    "id": "O3Kx9br24O3K"
   },
   "source": [
    "Imports:"
   ]
  },
  {
   "cell_type": "code",
   "execution_count": 2,
   "metadata": {
    "ExecuteTime": {
     "end_time": "2025-04-19T12:03:01.601415Z",
     "start_time": "2025-04-19T12:02:40.378100Z"
    },
    "id": "mQhVdOIP4OFo"
   },
   "outputs": [],
   "source": [
    "import os\n",
    "import numpy as np\n",
    "import torch\n",
    "import pandas as pd\n",
    "import torchvision\n",
    "from PIL import Image\n",
    "from torchvision import datasets, transforms\n",
    "from torch.utils.data import random_split, DataLoader\n",
    "import torch.nn as nn\n",
    "from torchvision import models\n",
    "import torch.optim as optim\n",
    "import matplotlib.pyplot as plt\n",
    "from sklearn.metrics import accuracy_score\n",
    "from torchvision import transforms\n",
    "from tqdm import tqdm\n",
    "from torch.optim.lr_scheduler import ReduceLROnPlateau\n"
   ]
  },
  {
   "cell_type": "markdown",
   "metadata": {
    "id": "GE_oR3hyBsSD"
   },
   "source": [
    "## Dataset Handling - Part 1"
   ]
  },
  {
   "cell_type": "markdown",
   "metadata": {
    "id": "gL9tiPAt_Is8"
   },
   "source": [
    "Donwloading dataset from kaggle with API key"
   ]
  },
  {
   "cell_type": "code",
   "execution_count": 5,
   "metadata": {
    "ExecuteTime": {
     "end_time": "2025-04-19T08:17:35.285006Z",
     "start_time": "2025-04-19T08:11:50.813493Z"
    },
    "colab": {
     "base_uri": "https://localhost:8080/"
    },
    "collapsed": true,
    "id": "eA7B4tY-G9eS",
    "outputId": "9c23f197-9733-472b-fc32-1182a175dd5b"
   },
   "outputs": [
    {
     "name": "stdout",
     "output_type": "stream",
     "text": [
      "Dataset extracted successfully to C:\\Users\\wadoo\\PycharmProjects\\JupyterProject3\\face_data\n"
     ]
    }
   ],
   "source": [
    "import os\n",
    "import shutil\n",
    "import zipfile\n",
    "from kaggle.api.kaggle_api_extended import KaggleApi\n",
    "\n",
    "# Get current working directory\n",
    "current_dir = os.getcwd()\n",
    "\n",
    "# Set up Kaggle credentials directory\n",
    "kaggle_dir = os.path.join(os.path.expanduser('~'), '.kaggle')\n",
    "os.makedirs(kaggle_dir, exist_ok=True)\n",
    "\n",
    "# Copy kaggle.json from current directory to .kaggle folder\n",
    "source_path = os.path.join(current_dir, 'kaggle.json')\n",
    "destination_path = os.path.join(kaggle_dir, 'kaggle.json')\n",
    "shutil.copy(source_path, destination_path)\n",
    "\n",
    "# Set file permissions for the kaggle.json file\n",
    "os.chmod(destination_path, 0o600)\n",
    "\n",
    "# Initialize Kaggle API\n",
    "api = KaggleApi()\n",
    "api.authenticate()\n",
    "\n",
    "# Download competition data to the current directory\n",
    "competition_name = 'face-classification-deep-learning-cs-405'\n",
    "api.competition_download_files(competition_name)\n",
    "\n",
    "# Create destination directory in the current project\n",
    "face_data_dir = os.path.join(current_dir, 'face_data')\n",
    "os.makedirs(face_data_dir, exist_ok=True)\n",
    "\n",
    "# Unzip the downloaded file\n",
    "zip_filename = f'{competition_name}.zip'\n",
    "with zipfile.ZipFile(zip_filename, 'r') as zip_ref:\n",
    "    zip_ref.extractall(face_data_dir)\n",
    "\n",
    "print(f\"Dataset extracted successfully to {face_data_dir}\")"
   ]
  },
  {
   "cell_type": "code",
   "execution_count": 3,
   "metadata": {
    "ExecuteTime": {
     "end_time": "2025-04-19T12:03:01.645110Z",
     "start_time": "2025-04-19T12:03:01.636447Z"
    },
    "id": "tsRplkV01FmB"
   },
   "outputs": [],
   "source": [
    "for root, dirs, files in os.walk(\"/face_data\"):\n",
    "    # Looking for test folders\n",
    "    if \"test\" in root.lower() or any(\"test\" in f.lower() for f in files):\n",
    "        print(f\"Found: {root}\")\n",
    "        print(f\"Sample files: {files[:5]}\")"
   ]
  },
  {
   "cell_type": "markdown",
   "metadata": {
    "id": "Pi7L0bmQBwW3"
   },
   "source": [
    "### Defining Transformations (including normalizing)"
   ]
  },
  {
   "cell_type": "code",
   "execution_count": 4,
   "metadata": {
    "ExecuteTime": {
     "end_time": "2025-04-19T12:03:04.979508Z",
     "start_time": "2025-04-19T12:03:04.971016Z"
    },
    "id": "-Le1WwH9COl7"
   },
   "outputs": [],
   "source": [
    "# Define transformations for training with data augmentation\n",
    "train_transform = transforms.Compose([\n",
    "    transforms.Resize((224, 224)),  # Resize to standard input size\n",
    "    transforms.RandomHorizontalFlip(),  # Data augmentation\n",
    "    transforms.RandomRotation(10),  # Slight rotation\n",
    "    transforms.ColorJitter(brightness=0.2, contrast=0.2),  # Adjust color\n",
    "    transforms.ToTensor(),\n",
    "    transforms.Normalize(mean=[0.485, 0.456, 0.406], std=[0.229, 0.224, 0.225])  # ImageNet stats\n",
    "])\n",
    "\n",
    "# For testing, no augmentation, just normalizing\n",
    "test_transform = transforms.Compose([\n",
    "    transforms.Resize((224, 224)),\n",
    "    transforms.ToTensor(),\n",
    "    transforms.Normalize(mean=[0.485, 0.456, 0.406], std=[0.229, 0.224, 0.225])\n",
    "])"
   ]
  },
  {
   "cell_type": "code",
   "execution_count": 5,
   "metadata": {
    "ExecuteTime": {
     "end_time": "2025-04-19T12:03:21.519648Z",
     "start_time": "2025-04-19T12:03:07.298709Z"
    },
    "id": "33MHdRrQvy6N"
   },
   "outputs": [],
   "source": [
    "# Loading data\n",
    "data = datasets.ImageFolder(root='./face_data/dataset/train', transform=train_transform)"
   ]
  },
  {
   "cell_type": "markdown",
   "metadata": {
    "id": "DeKGFyCm4mtO"
   },
   "source": [
    "Splitting training data into 80% train and 20% validation sets"
   ]
  },
  {
   "cell_type": "code",
   "execution_count": 6,
   "metadata": {
    "ExecuteTime": {
     "end_time": "2025-04-19T12:03:21.555717Z",
     "start_time": "2025-04-19T12:03:21.528723Z"
    },
    "id": "ENU5bc_jCP6b"
   },
   "outputs": [],
   "source": [
    "trainLen = int(0.8 * len(data))\n",
    "valLen = len(data) - trainLen\n",
    "trainData, valData = random_split(data, [trainLen, valLen])"
   ]
  },
  {
   "cell_type": "code",
   "execution_count": 7,
   "metadata": {
    "ExecuteTime": {
     "end_time": "2025-04-19T12:03:21.578261Z",
     "start_time": "2025-04-19T12:03:21.571370Z"
    },
    "id": "nBv-_D98CQBW"
   },
   "outputs": [],
   "source": [
    "trainLoader = DataLoader(trainData, batch_size=32, shuffle=True)\n",
    "valLoader = DataLoader(valData, batch_size=32, shuffle=False)"
   ]
  },
  {
   "cell_type": "markdown",
   "metadata": {
    "id": "nsj-_B7XeFrk"
   },
   "source": [
    "## Deep Face Classifier - Part 2"
   ]
  },
  {
   "cell_type": "markdown",
   "metadata": {},
   "source": [
    "### ResNet:"
   ]
  },
  {
   "cell_type": "markdown",
   "metadata": {
    "id": "d5SEbgGNgd1d"
   },
   "source": [
    "Training Functions"
   ]
  },
  {
   "cell_type": "code",
   "execution_count": 37,
   "metadata": {
    "ExecuteTime": {
     "end_time": "2025-04-19T16:22:30.388480Z",
     "start_time": "2025-04-19T16:22:30.370041Z"
    },
    "id": "MM54DxP6JVPx"
   },
   "outputs": [],
   "source": [
    "import time\n",
    "\n",
    "def training(model, trainLoader, valLoader, lossFunction, optimizer, epochs):\n",
    "    trainLoss, valLoss = [], []\n",
    "    valAccuracies = []\n",
    "    bestValidLoss = float('inf')\n",
    "    bestModelState = None\n",
    "\n",
    "    # Add learning rate scheduler for better convergence\n",
    "    scheduler = torch.optim.lr_scheduler.ReduceLROnPlateau(optimizer, mode='min', factor=0.1, patience=3, verbose=True)\n",
    "\n",
    "    # Add early stopping mechanism\n",
    "    patience = 7\n",
    "    early_stop_counter = 0\n",
    "\n",
    "    for epoch in range(epochs):\n",
    "        model.train()\n",
    "        runningLoss = 0.0\n",
    "        correct = 0\n",
    "        total = 0\n",
    "        start_time = time.time()\n",
    "\n",
    "        # Batch progress printing frequency (every 25% of the dataset)\n",
    "        print_freq = max(1, len(trainLoader) // 4)\n",
    "\n",
    "        for i, (images, labels) in enumerate(trainLoader):\n",
    "            images, labels = images.to(device), labels.to(device)\n",
    "\n",
    "            # Zero gradients for every batch\n",
    "            optimizer.zero_grad()\n",
    "\n",
    "            # Mixed precision training for speed improvement\n",
    "            with torch.cuda.amp.autocast(enabled=True):\n",
    "                outputs = model(images)\n",
    "                loss = lossFunction(outputs, labels)\n",
    "\n",
    "            # Backpropagation\n",
    "            loss.backward()\n",
    "\n",
    "            # Gradient clipping to prevent exploding gradients\n",
    "            torch.nn.utils.clip_grad_norm_(model.parameters(), max_norm=1.0)\n",
    "\n",
    "            # Optimize\n",
    "            optimizer.step()\n",
    "\n",
    "            # Statistics\n",
    "            runningLoss += loss.item()\n",
    "            _, predicted = outputs.max(1)\n",
    "            total += labels.size(0)\n",
    "            correct += predicted.eq(labels).sum().item()\n",
    "\n",
    "            # Print batch progress at specified intervals\n",
    "            if (i + 1) % print_freq == 0 or (i + 1) == len(trainLoader):\n",
    "                progress = (i + 1) / len(trainLoader) * 100\n",
    "                batch_loss = runningLoss / (i + 1)\n",
    "                batch_acc = 100.0 * correct / total\n",
    "                print(f'Epoch: {epoch+1}/{epochs} | Progress: {progress:.1f}% | Batch Loss: {batch_loss:.4f} | Batch Acc: {batch_acc:.2f}%', end='\\r')\n",
    "\n",
    "        # Clear the progress line\n",
    "        print(' ' * 100, end='\\r')\n",
    "\n",
    "        # Calculate average training metrics\n",
    "        avgTrainLoss = runningLoss / len(trainLoader)\n",
    "        trainAcc = 100.0 * correct / total\n",
    "        epoch_time = time.time() - start_time\n",
    "\n",
    "        # Evaluate on validation set\n",
    "        model.eval()\n",
    "        valRunningLoss = 0.0\n",
    "        valCorrect = 0\n",
    "        valTotal = 0\n",
    "\n",
    "        with torch.no_grad():\n",
    "            for images, labels in valLoader:\n",
    "                images, labels = images.to(device), labels.to(device)\n",
    "\n",
    "                outputs = model(images)\n",
    "                loss = lossFunction(outputs, labels)\n",
    "\n",
    "                valRunningLoss += loss.item()\n",
    "                _, predicted = outputs.max(1)\n",
    "                valTotal += labels.size(0)\n",
    "                valCorrect += predicted.eq(labels).sum().item()\n",
    "\n",
    "        avgValLoss = valRunningLoss / len(valLoader)\n",
    "        valAcc = 100.0 * valCorrect / valTotal\n",
    "\n",
    "        # Store metrics\n",
    "        trainLoss.append(avgTrainLoss)\n",
    "        valLoss.append(avgValLoss)\n",
    "        valAccuracies.append(valAcc)\n",
    "\n",
    "        # Update learning rate based on validation loss\n",
    "        scheduler.step(avgValLoss)\n",
    "\n",
    "        # Print epoch summary with elapsed time\n",
    "        print(f\"Epoch {epoch+1}/{epochs} [{epoch_time:.1f}s]\")\n",
    "        print(f\"  Train: Loss {avgTrainLoss:.4f} | Acc {trainAcc:.2f}%\")\n",
    "        print(f\"  Val:   Loss {avgValLoss:.4f} | Acc {valAcc:.2f}%\")\n",
    "        print(f\"  LR:    {optimizer.param_groups[0]['lr']:.2e}\")\n",
    "\n",
    "        # Save best model\n",
    "        if avgValLoss < bestValidLoss:\n",
    "            bestValidLoss = avgValLoss\n",
    "            bestModelState = model.state_dict()\n",
    "            torch.save(bestModelState, \"./resnet18.pth\")\n",
    "            print(\"  Best model saved (val loss improved)\")\n",
    "            early_stop_counter = 0\n",
    "        else:\n",
    "            early_stop_counter += 1\n",
    "            print(f\"  Early stop counter: {early_stop_counter}/{patience}\")\n",
    "\n",
    "        print(\"-\" * 60)\n",
    "\n",
    "        # Early stopping\n",
    "        if early_stop_counter >= patience:\n",
    "            print(f\"Early stopping triggered after {epoch+1} epochs!\")\n",
    "            break\n",
    "\n",
    "    # Load best model before returning\n",
    "    model.load_state_dict(bestModelState)\n",
    "\n",
    "    return trainLoss, valLoss, valAccuracies"
   ]
  },
  {
   "cell_type": "code",
   "execution_count": 32,
   "metadata": {
    "ExecuteTime": {
     "end_time": "2025-04-19T16:21:50.298368Z",
     "start_time": "2025-04-19T16:21:50.277226Z"
    },
    "id": "mCul9tk15v_q"
   },
   "outputs": [],
   "source": [
    "def evaluate(model, valLoader, lossFunction):\n",
    "    model.eval()\n",
    "    totalLoss = 0.0\n",
    "    all_preds = []\n",
    "    all_labels = []\n",
    "\n",
    "    with torch.no_grad():\n",
    "        for images, labels in valLoader:\n",
    "            images, labels = images.to(device), labels.to(device)\n",
    "            outputs = model(images)\n",
    "            loss = lossFunction(outputs, labels)\n",
    "            totalLoss += loss.item()\n",
    "\n",
    "            preds = outputs.argmax(dim=1)\n",
    "            all_preds.extend(preds.cpu().numpy())\n",
    "            all_labels.extend(labels.cpu().numpy())\n",
    "\n",
    "    avg_loss = totalLoss / len(valLoader)\n",
    "    accuracy = accuracy_score(all_labels, all_preds)\n",
    "    return avg_loss, accuracy"
   ]
  },
  {
   "cell_type": "markdown",
   "metadata": {},
   "source": [
    "Checking cuda connection"
   ]
  },
  {
   "cell_type": "code",
   "execution_count": 33,
   "metadata": {
    "ExecuteTime": {
     "end_time": "2025-04-19T16:21:52.618824Z",
     "start_time": "2025-04-19T16:21:52.613647Z"
    }
   },
   "outputs": [
    {
     "name": "stdout",
     "output_type": "stream",
     "text": [
      "True\n"
     ]
    }
   ],
   "source": [
    "print(torch.cuda.is_available())"
   ]
  },
  {
   "cell_type": "markdown",
   "metadata": {},
   "source": [
    "### Model Training"
   ]
  },
  {
   "cell_type": "code",
   "execution_count": 38,
   "metadata": {
    "ExecuteTime": {
     "end_time": "2025-04-19T17:34:11.107778Z",
     "start_time": "2025-04-19T16:22:35.841933Z"
    },
    "colab": {
     "base_uri": "https://localhost:8080/"
    },
    "id": "BP3BCjhpIF_F",
    "outputId": "567bbe68-ec17-463b-9ee0-324ef622aac3"
   },
   "outputs": [
    {
     "name": "stdout",
     "output_type": "stream",
     "text": [
      "cuda\n"
     ]
    },
    {
     "name": "stderr",
     "output_type": "stream",
     "text": [
      "C:\\Users\\wadoo\\AppData\\Local\\Temp\\ipykernel_12092\\38192514.py:33: FutureWarning: `torch.cuda.amp.autocast(args...)` is deprecated. Please use `torch.amp.autocast('cuda', args...)` instead.\n",
      "  with torch.cuda.amp.autocast(enabled=True):\n"
     ]
    },
    {
     "name": "stdout",
     "output_type": "stream",
     "text": [
      "Epoch 1/5 [713.8s]                                                                                  \n",
      "  Train: Loss 8.9700 | Acc 0.01%\n",
      "  Val:   Loss 8.8938 | Acc 0.00%\n",
      "  LR:    1.00e-03\n",
      "  Best model saved (val loss improved)\n",
      "------------------------------------------------------------\n",
      "Epoch 2/5 [696.6s]                                                                                  \n",
      "  Train: Loss 8.8490 | Acc 0.02%\n",
      "  Val:   Loss 8.9013 | Acc 0.00%\n",
      "  LR:    1.00e-03\n",
      "  Early stop counter: 1/7\n",
      "------------------------------------------------------------\n",
      "Epoch 3/5 [716.6s]                                                                                  \n",
      "  Train: Loss 8.7199 | Acc 0.04%\n",
      "  Val:   Loss 8.4044 | Acc 0.09%\n",
      "  LR:    1.00e-03\n",
      "  Best model saved (val loss improved)\n",
      "------------------------------------------------------------\n",
      "Epoch 4/5 [678.9s]                                                                                  \n",
      "  Train: Loss 7.4641 | Acc 0.97%\n",
      "  Val:   Loss 6.7670 | Acc 2.36%\n",
      "  LR:    1.00e-03\n",
      "  Best model saved (val loss improved)\n",
      "------------------------------------------------------------\n",
      "Epoch 5/5 [661.8s]                                                                                  \n",
      "  Train: Loss 5.9638 | Acc 5.88%\n",
      "  Val:   Loss 5.9118 | Acc 6.43%\n",
      "  LR:    1.00e-03\n",
      "  Best model saved (val loss improved)\n",
      "------------------------------------------------------------\n"
     ]
    }
   ],
   "source": [
    "device = torch.device(\"cuda\" if torch.cuda.is_available() else \"cpu\")\n",
    "print(device)\n",
    "lossFunction = nn.CrossEntropyLoss()\n",
    "model = models.resnet18(pretrained=True)\n",
    "model.fc = nn.Linear(model.fc.in_features, 7000)\n",
    "model = model.to(device)\n",
    "optimizer = torch.optim.Adam(model.parameters(), lr=0.001, weight_decay=1e-5)\n",
    "trainLoss, valLoss, valAccuracies = training(model, trainLoader, valLoader, lossFunction, optimizer, epochs=5)\n"
   ]
  },
  {
   "cell_type": "code",
   "execution_count": 39,
   "metadata": {
    "ExecuteTime": {
     "end_time": "2025-04-19T17:34:11.339514Z",
     "start_time": "2025-04-19T17:34:11.174251Z"
    }
   },
   "outputs": [
    {
     "data": {
      "text/plain": [
       "<All keys matched successfully>"
      ]
     },
     "execution_count": 39,
     "metadata": {},
     "output_type": "execute_result"
    }
   ],
   "source": [
    "# loading weights\n",
    "model.load_state_dict(torch.load(\"./resnet18.pth\", map_location=device))"
   ]
  },
  {
   "cell_type": "markdown",
   "metadata": {
    "id": "9-DrAaxZ6CkO"
   },
   "source": [
    "Another 5 epochs as not converged:"
   ]
  },
  {
   "cell_type": "code",
   "execution_count": 41,
   "metadata": {
    "ExecuteTime": {
     "end_time": "2025-04-19T21:11:19.441943Z",
     "start_time": "2025-04-19T20:02:12.711456Z"
    }
   },
   "outputs": [
    {
     "name": "stderr",
     "output_type": "stream",
     "text": [
      "C:\\Users\\wadoo\\AppData\\Local\\Temp\\ipykernel_12092\\38192514.py:33: FutureWarning: `torch.cuda.amp.autocast(args...)` is deprecated. Please use `torch.amp.autocast('cuda', args...)` instead.\n",
      "  with torch.cuda.amp.autocast(enabled=True):\n"
     ]
    },
    {
     "name": "stdout",
     "output_type": "stream",
     "text": [
      "Epoch 1/5 [678.4s]                                                                                  \n",
      "  Train: Loss 1.8166 | Acc 62.58%\n",
      "  Val:   Loss 3.1159 | Acc 45.38%\n",
      "  LR:    1.00e-03\n",
      "  Best model saved (val loss improved)\n",
      "------------------------------------------------------------\n",
      "Epoch 2/5 [659.5s]                                                                                  \n",
      "  Train: Loss 1.7170 | Acc 64.44%\n",
      "  Val:   Loss 2.8705 | Acc 48.99%\n",
      "  LR:    1.00e-03\n",
      "  Best model saved (val loss improved)\n",
      "------------------------------------------------------------\n",
      "Epoch 3/5 [657.1s]                                                                                  \n",
      "  Train: Loss 1.6306 | Acc 65.98%\n",
      "  Val:   Loss 2.8470 | Acc 48.82%\n",
      "  LR:    1.00e-03\n",
      "  Best model saved (val loss improved)\n",
      "------------------------------------------------------------\n",
      "Epoch 4/5 [675.5s]                                                                                  \n",
      "  Train: Loss 1.5533 | Acc 67.46%\n",
      "  Val:   Loss 2.7264 | Acc 51.22%\n",
      "  LR:    1.00e-03\n",
      "  Best model saved (val loss improved)\n",
      "------------------------------------------------------------\n",
      "Epoch 5/5 [675.2s]                                                                                  \n",
      "  Train: Loss 1.4868 | Acc 68.58%\n",
      "  Val:   Loss 2.9283 | Acc 49.09%\n",
      "  LR:    1.00e-03\n",
      "  Early stop counter: 1/7\n",
      "------------------------------------------------------------\n"
     ]
    }
   ],
   "source": [
    "print(device)\n",
    "trainLoss, valLoss, valAccuracies = training(model, trainLoader, valLoader, lossFunction, optimizer, epochs=5)"
   ]
  },
  {
   "cell_type": "code",
   "execution_count": 43,
   "metadata": {
    "ExecuteTime": {
     "end_time": "2025-04-20T04:20:19.660946Z",
     "start_time": "2025-04-20T04:20:19.409438Z"
    }
   },
   "outputs": [
    {
     "data": {
      "text/plain": [
       "<All keys matched successfully>"
      ]
     },
     "execution_count": 43,
     "metadata": {},
     "output_type": "execute_result"
    }
   ],
   "source": [
    "# loading weights\n",
    "model.load_state_dict(torch.load(\"./resnet18.pth\", map_location=device))"
   ]
  },
  {
   "cell_type": "markdown",
   "metadata": {},
   "source": [
    "Another 8 epochs as not converged:"
   ]
  },
  {
   "cell_type": "code",
   "execution_count": 44,
   "metadata": {
    "ExecuteTime": {
     "end_time": "2025-04-20T06:14:13.397117Z",
     "start_time": "2025-04-20T04:20:31.445287Z"
    }
   },
   "outputs": [
    {
     "name": "stdout",
     "output_type": "stream",
     "text": [
      "cuda\n"
     ]
    },
    {
     "name": "stderr",
     "output_type": "stream",
     "text": [
      "C:\\Users\\wadoo\\AppData\\Local\\Temp\\ipykernel_12092\\38192514.py:33: FutureWarning: `torch.cuda.amp.autocast(args...)` is deprecated. Please use `torch.amp.autocast('cuda', args...)` instead.\n",
      "  with torch.cuda.amp.autocast(enabled=True):\n"
     ]
    },
    {
     "name": "stdout",
     "output_type": "stream",
     "text": [
      "Epoch 1/8 [849.2s]                                                                                  \n",
      "  Train: Loss 1.4852 | Acc 68.46%\n",
      "  Val:   Loss 2.8561 | Acc 49.48%\n",
      "  LR:    1.00e-03\n",
      "  Best model saved (val loss improved)\n",
      "------------------------------------------------------------\n",
      "Epoch 2/8 [653.4s]                                                                                  \n",
      "  Train: Loss 1.4184 | Acc 69.84%\n",
      "  Val:   Loss 2.8283 | Acc 50.32%\n",
      "  LR:    1.00e-03\n",
      "  Best model saved (val loss improved)\n",
      "------------------------------------------------------------\n",
      "Epoch 3/8 [664.1s]                                                                                  \n",
      "  Train: Loss 1.3713 | Acc 70.67%\n",
      "  Val:   Loss 2.6842 | Acc 51.99%\n",
      "  LR:    1.00e-03\n",
      "  Best model saved (val loss improved)\n",
      "------------------------------------------------------------\n",
      "Epoch 4/8 [654.3s]                                                                                  \n",
      "  Train: Loss 1.3220 | Acc 71.57%\n",
      "  Val:   Loss 2.6586 | Acc 53.33%\n",
      "  LR:    1.00e-03\n",
      "  Best model saved (val loss improved)\n",
      "------------------------------------------------------------\n",
      "Epoch 5/8 [671.1s]                                                                                  \n",
      "  Train: Loss 1.2797 | Acc 72.45%\n",
      "  Val:   Loss 2.6209 | Acc 54.10%\n",
      "  LR:    1.00e-03\n",
      "  Best model saved (val loss improved)\n",
      "------------------------------------------------------------\n",
      "Epoch 6/8 [693.1s]                                                                                  \n",
      "  Train: Loss 1.2387 | Acc 73.09%\n",
      "  Val:   Loss 2.6252 | Acc 53.75%\n",
      "  LR:    1.00e-03\n",
      "  Early stop counter: 1/7\n",
      "------------------------------------------------------------\n",
      "Epoch 7/8 [668.7s]                                                                                  \n",
      "  Train: Loss 1.2023 | Acc 73.77%\n",
      "  Val:   Loss 2.5535 | Acc 54.84%\n",
      "  LR:    1.00e-03\n",
      "  Best model saved (val loss improved)\n",
      "------------------------------------------------------------\n",
      "Epoch 8/8 [667.5s]                                                                                  \n",
      "  Train: Loss 1.1694 | Acc 74.36%\n",
      "  Val:   Loss 2.5227 | Acc 56.10%\n",
      "  LR:    1.00e-03\n",
      "  Best model saved (val loss improved)\n",
      "------------------------------------------------------------\n"
     ]
    }
   ],
   "source": [
    "print(device)\n",
    "trainLoss, valLoss, valAccuracies = training(model, trainLoader, valLoader, lossFunction, optimizer, epochs=8)"
   ]
  },
  {
   "cell_type": "markdown",
   "metadata": {},
   "source": [
    "Visualizing:"
   ]
  },
  {
   "cell_type": "code",
   "execution_count": 45,
   "metadata": {
    "ExecuteTime": {
     "end_time": "2025-04-20T06:32:14.551620Z",
     "start_time": "2025-04-20T06:32:14.065755Z"
    },
    "colab": {
     "base_uri": "https://localhost:8080/",
     "height": 514
    },
    "id": "CYJqxnAIKxq4",
    "outputId": "55d76196-dc0e-443d-f4fc-cc281001516e"
   },
   "outputs": [
    {
     "data": {
      "image/png": "[encoded data removed]",
      "text/plain": [
       "<Figure size 1000x400 with 2 Axes>"
      ]
     },
     "metadata": {},
     "output_type": "display_data"
    }
   ],
   "source": [
    "plt.figure(figsize=(10, 4))\n",
    "\n",
    "# loss Plot\n",
    "plt.subplot(1, 2, 1)\n",
    "plt.plot(trainLoss, label='Train Loss')\n",
    "plt.plot(valLoss, label='Val Loss')\n",
    "plt.xlabel('Epochs')\n",
    "plt.ylabel('Loss')\n",
    "plt.title('Loss per Epoch')\n",
    "plt.legend()\n",
    "\n",
    "# accuracy\n",
    "plt.subplot(1, 2, 2)\n",
    "plt.plot(valAccuracies, label='Val Accuracy')\n",
    "plt.xlabel('Epochs')\n",
    "plt.ylabel('Accuracy')\n",
    "plt.title('Validation Accuracy per Epoch')\n",
    "plt.legend()\n",
    "\n",
    "plt.tight_layout()\n",
    "plt.show()\n"
   ]
  },
  {
   "cell_type": "markdown",
   "metadata": {
    "id": "rmlq0OU760Gs"
   },
   "source": [
    "###MobileNet:"
   ]
  },
  {
   "cell_type": "code",
   "execution_count": 52,
   "metadata": {
    "ExecuteTime": {
     "end_time": "2025-04-20T06:33:44.752680Z",
     "start_time": "2025-04-20T06:33:44.496401Z"
    },
    "colab": {
     "base_uri": "https://localhost:8080/"
    },
    "id": "ddvCP2IPpGI8",
    "outputId": "18b9af23-222f-491b-9b60-8a2c7b3020ff"
   },
   "outputs": [],
   "source": [
    "# Load pre-trained MobileNet v2 model\n",
    "model = torchvision.models.mobilenet_v2(pretrained=True)\n",
    "\n",
    "# Modifying final classifier layer to output 7000 classes\n",
    "num_classes = 7000\n",
    "model.classifier[1] = nn.Linear(model.last_channel, num_classes)"
   ]
  },
  {
   "cell_type": "code",
   "execution_count": 53,
   "metadata": {
    "ExecuteTime": {
     "end_time": "2025-04-20T06:33:48.060872Z",
     "start_time": "2025-04-20T06:33:47.966673Z"
    },
    "id": "D17qY-ZBpH0t"
   },
   "outputs": [],
   "source": [
    "# Using GPU\n",
    "device = torch.device(\"cuda\" if torch.cuda.is_available() else \"cpu\")\n",
    "\n",
    "model = model.to(device)\n",
    "\n",
    "# Loss function and optimizer\n",
    "lossFunction = nn.CrossEntropyLoss()\n",
    "optimizer = optim.Adam(model.parameters(), lr=0.0001, weight_decay=1e-5)\n",
    "# Setting schedular\n",
    "scheduler = ReduceLROnPlateau(optimizer, mode='min', factor=0.1, patience=3)"
   ]
  },
  {
   "cell_type": "markdown",
   "metadata": {},
   "source": [
    "Changed training model for MobileNet for better metrics output:"
   ]
  },
  {
   "cell_type": "code",
   "execution_count": 54,
   "metadata": {
    "ExecuteTime": {
     "end_time": "2025-04-20T06:33:50.145574Z",
     "start_time": "2025-04-20T06:33:50.130898Z"
    },
    "id": "lO61G1cWpdxz"
   },
   "outputs": [],
   "source": [
    "def training(model, trainLoader, valLoader, lossFunction, optimizer, scheduler, epochs):\n",
    "    trainLoss, valLoss = [], []\n",
    "    valAccuracies = []\n",
    "    bestValidLoss = float('inf')\n",
    "    bestModelState = None\n",
    "\n",
    "    for epoch in range(epochs):\n",
    "        model.train()\n",
    "        runningLoss = 0.0\n",
    "        allPredictions = []\n",
    "        allLabels = []\n",
    "\n",
    "        pbar = tqdm(trainLoader, desc=f\"Epoch {epoch+1}/{epochs}\")\n",
    "        for images, labels in pbar:\n",
    "            images, labels = images.to(device), labels.to(device)\n",
    "\n",
    "            optimizer.zero_grad()\n",
    "\n",
    "            outputs = model(images)\n",
    "\n",
    "            # Calculating loss\n",
    "            loss = lossFunction(outputs, labels)\n",
    "\n",
    "\n",
    "            loss.backward()\n",
    "            optimizer.step()  # Update step\n",
    "\n",
    "            runningLoss += loss.item()\n",
    "\n",
    "            preds = outputs.argmax(dim=1)\n",
    "            allPredictions.extend(preds.cpu().numpy())\n",
    "            allLabels.extend(labels.cpu().numpy())\n",
    "\n",
    "            pbar.set_postfix({\"loss\": loss.item()})\n",
    "\n",
    "        avgTrainLoss = runningLoss / len(trainLoader)\n",
    "        trainAcc = accuracy_score(allLabels, allPredictions)\n",
    "\n",
    "        avgValLoss, valAcc = evaluate(model, valLoader, lossFunction)\n",
    "        scheduler.step(avgValLoss)  # For ReduceLROnPlateau\n",
    "\n",
    "        # metric updates\n",
    "        trainLoss.append(avgTrainLoss)\n",
    "        valLoss.append(avgValLoss)\n",
    "        valAccuracies.append(valAcc)\n",
    "\n",
    "        current_lr = optimizer.param_groups[0]['lr']\n",
    "        print(f\"Epoch {epoch+1}/{epochs} | Train Loss: {avgTrainLoss:.4f} | Train Acc: {trainAcc:.4f} | Val Loss: {avgValLoss:.4f} | Val Acc: {valAcc:.4f} | LR: {current_lr:.6f}\")\n",
    "\n",
    "        # saving best model\n",
    "        if avgValLoss < bestValidLoss:\n",
    "            bestValidLoss = avgValLoss\n",
    "            bestModelState = model.state_dict()\n",
    "            torch.save(bestModelState, \"./mobileNet.pth\")\n",
    "            print(\"Best model saved at epoch\", epoch+1)\n",
    "\n",
    "    return trainLoss, valLoss, valAccuracies\n"
   ]
  },
  {
   "cell_type": "code",
   "execution_count": 55,
   "metadata": {
    "ExecuteTime": {
     "end_time": "2025-04-20T06:33:52.427656Z",
     "start_time": "2025-04-20T06:33:52.418423Z"
    },
    "id": "YYHk3jFOA8_q"
   },
   "outputs": [],
   "source": [
    "def evaluate(model, valLoader, lossFunction):\n",
    "    # Set model to evaluation mode\n",
    "    model.eval()\n",
    "    totalLoss = 0.0\n",
    "    allPredictions = []\n",
    "    allLabels = []\n",
    "\n",
    "    with torch.no_grad():\n",
    "        for images, labels in valLoader:\n",
    "            images, labels = images.to(device), labels.to(device)\n",
    "\n",
    "            outputs = model(images)\n",
    "\n",
    "            loss = lossFunction(outputs, labels)\n",
    "            totalLoss += loss.item()\n",
    "\n",
    "            preds = outputs.argmax(dim=1)\n",
    "            allPredictions.extend(preds.cpu().numpy())\n",
    "            allLabels.extend(labels.cpu().numpy())\n",
    "\n",
    "    avg_loss = totalLoss / len(valLoader)\n",
    "    accuracy = accuracy_score(allLabels, allPredictions)\n",
    "    return avg_loss, accuracy"
   ]
  },
  {
   "cell_type": "code",
   "execution_count": 20,
   "metadata": {
    "ExecuteTime": {
     "end_time": "2025-04-19T14:42:06.736108Z",
     "start_time": "2025-04-19T13:12:02.747531Z"
    },
    "id": "bEoyPirGpixz"
   },
   "outputs": [
    {
     "name": "stdout",
     "output_type": "stream",
     "text": [
      "cuda\n"
     ]
    },
    {
     "name": "stderr",
     "output_type": "stream",
     "text": [
      "Epoch 1/5: 100%|██████████| 3500/3500 [20:14<00:00,  2.88it/s, loss=8.54]\n"
     ]
    },
    {
     "name": "stdout",
     "output_type": "stream",
     "text": [
      "Epoch 1/5 | Train Loss: 8.7817 | Train Acc: 0.0002 | Val Loss: 8.5001 | Val Acc: 0.0004 | LR: 0.000100\n",
      "Best model saved at epoch 1\n"
     ]
    },
    {
     "name": "stderr",
     "output_type": "stream",
     "text": [
      "Epoch 2/5: 100%|██████████| 3500/3500 [15:54<00:00,  3.67it/s, loss=6.67]\n"
     ]
    },
    {
     "name": "stdout",
     "output_type": "stream",
     "text": [
      "Epoch 2/5 | Train Loss: 7.8347 | Train Acc: 0.0032 | Val Loss: 6.7752 | Val Acc: 0.0158 | LR: 0.000100\n",
      "Best model saved at epoch 2\n"
     ]
    },
    {
     "name": "stderr",
     "output_type": "stream",
     "text": [
      "Epoch 3/5: 100%|██████████| 3500/3500 [13:52<00:00,  4.20it/s, loss=4.95]\n"
     ]
    },
    {
     "name": "stdout",
     "output_type": "stream",
     "text": [
      "Epoch 3/5 | Train Loss: 5.7676 | Train Acc: 0.0680 | Val Loss: 4.8803 | Val Acc: 0.1554 | LR: 0.000100\n",
      "Best model saved at epoch 3\n"
     ]
    },
    {
     "name": "stderr",
     "output_type": "stream",
     "text": [
      "Epoch 4/5: 100%|██████████| 3500/3500 [12:13<00:00,  4.77it/s, loss=4.07]\n"
     ]
    },
    {
     "name": "stdout",
     "output_type": "stream",
     "text": [
      "Epoch 4/5 | Train Loss: 4.1028 | Train Acc: 0.2381 | Val Loss: 3.8881 | Val Acc: 0.2897 | LR: 0.000100\n",
      "Best model saved at epoch 4\n"
     ]
    },
    {
     "name": "stderr",
     "output_type": "stream",
     "text": [
      "Epoch 5/5: 100%|██████████| 3500/3500 [12:21<00:00,  4.72it/s, loss=3.27]\n"
     ]
    },
    {
     "name": "stdout",
     "output_type": "stream",
     "text": [
      "Epoch 5/5 | Train Loss: 3.1678 | Train Acc: 0.3860 | Val Loss: 3.2812 | Val Acc: 0.3894 | LR: 0.000100\n",
      "Best model saved at epoch 5\n",
      "Loading saved model from ./mobileNet.pth\n"
     ]
    }
   ],
   "source": [
    "print(device)\n",
    "trainLoss, valLoss, valAccuracies = training(model, trainLoader, valLoader, lossFunction, optimizer, scheduler, epochs=5)\n",
    "# loading best model\n",
    "model_path = './mobileNet.pth'\n",
    "if os.path.exists(model_path):\n",
    "    print(f\"Loading saved model from {model_path}\")\n",
    "    model.load_state_dict(torch.load(model_path))"
   ]
  },
  {
   "cell_type": "markdown",
   "metadata": {
    "id": "PBE9_Vs3W4Y9"
   },
   "source": [
    "Running model for another 5 epochs as not converged yet:"
   ]
  },
  {
   "cell_type": "code",
   "execution_count": 21,
   "metadata": {
    "ExecuteTime": {
     "end_time": "2025-04-19T16:07:07.482965Z",
     "start_time": "2025-04-19T14:46:24.044355Z"
    }
   },
   "outputs": [
    {
     "name": "stderr",
     "output_type": "stream",
     "text": [
      "Epoch 1/5: 100%|██████████| 3500/3500 [12:30<00:00,  4.66it/s, loss=1.93]\n"
     ]
    },
    {
     "name": "stdout",
     "output_type": "stream",
     "text": [
      "Epoch 1/5 | Train Loss: 2.4965 | Train Acc: 0.5041 | Val Loss: 2.8575 | Val Acc: 0.4660 | LR: 0.000100\n",
      "Best model saved at epoch 1\n"
     ]
    },
    {
     "name": "stderr",
     "output_type": "stream",
     "text": [
      "Epoch 2/5: 100%|██████████| 3500/3500 [12:10<00:00,  4.79it/s, loss=2.42] \n"
     ]
    },
    {
     "name": "stdout",
     "output_type": "stream",
     "text": [
      "Epoch 2/5 | Train Loss: 1.9991 | Train Acc: 0.5975 | Val Loss: 2.5377 | Val Acc: 0.5219 | LR: 0.000100\n",
      "Best model saved at epoch 2\n"
     ]
    },
    {
     "name": "stderr",
     "output_type": "stream",
     "text": [
      "Epoch 3/5: 100%|██████████| 3500/3500 [12:08<00:00,  4.81it/s, loss=1.73] \n"
     ]
    },
    {
     "name": "stdout",
     "output_type": "stream",
     "text": [
      "Epoch 3/5 | Train Loss: 1.6342 | Train Acc: 0.6669 | Val Loss: 2.3381 | Val Acc: 0.5639 | LR: 0.000100\n",
      "Best model saved at epoch 3\n"
     ]
    },
    {
     "name": "stderr",
     "output_type": "stream",
     "text": [
      "Epoch 4/5: 100%|██████████| 3500/3500 [14:25<00:00,  4.05it/s, loss=1.24] \n"
     ]
    },
    {
     "name": "stdout",
     "output_type": "stream",
     "text": [
      "Epoch 4/5 | Train Loss: 1.3653 | Train Acc: 0.7176 | Val Loss: 2.2062 | Val Acc: 0.5888 | LR: 0.000100\n",
      "Best model saved at epoch 4\n"
     ]
    },
    {
     "name": "stderr",
     "output_type": "stream",
     "text": [
      "Epoch 5/5: 100%|██████████| 3500/3500 [15:17<00:00,  3.82it/s, loss=1.56] \n"
     ]
    },
    {
     "name": "stdout",
     "output_type": "stream",
     "text": [
      "Epoch 5/5 | Train Loss: 1.1511 | Train Acc: 0.7602 | Val Loss: 2.0729 | Val Acc: 0.6156 | LR: 0.000100\n",
      "Best model saved at epoch 5\n"
     ]
    }
   ],
   "source": [
    "trainLoss, valLoss, valAccuracies = training(model, trainLoader, valLoader, lossFunction, optimizer, scheduler, epochs=5)"
   ]
  },
  {
   "cell_type": "code",
   "execution_count": 56,
   "metadata": {
    "ExecuteTime": {
     "end_time": "2025-04-20T06:33:58.674580Z",
     "start_time": "2025-04-20T06:33:58.390284Z"
    }
   },
   "outputs": [
    {
     "name": "stdout",
     "output_type": "stream",
     "text": [
      "Loading saved model from ./mobileNet.pth\n"
     ]
    }
   ],
   "source": [
    "# loading best model\n",
    "model_path = './mobileNet.pth'\n",
    "if os.path.exists(model_path):\n",
    "    print(f\"Loading saved model from {model_path}\")\n",
    "    model.load_state_dict(torch.load(model_path))"
   ]
  },
  {
   "cell_type": "markdown",
   "metadata": {},
   "source": [
    "Another 5 epochs as not converged:"
   ]
  },
  {
   "cell_type": "code",
   "execution_count": 57,
   "metadata": {
    "ExecuteTime": {
     "end_time": "2025-04-20T07:55:02.521284Z",
     "start_time": "2025-04-20T06:34:00.072742Z"
    }
   },
   "outputs": [
    {
     "name": "stderr",
     "output_type": "stream",
     "text": [
      "Epoch 1/5: 100%|██████████| 3500/3500 [12:37<00:00,  4.62it/s, loss=1.25] \n"
     ]
    },
    {
     "name": "stdout",
     "output_type": "stream",
     "text": [
      "Epoch 1/5 | Train Loss: 1.0637 | Train Acc: 0.7752 | Val Loss: 1.9906 | Val Acc: 0.6338 | LR: 0.000100\n",
      "Best model saved at epoch 1\n"
     ]
    },
    {
     "name": "stderr",
     "output_type": "stream",
     "text": [
      "Epoch 2/5: 100%|██████████| 3500/3500 [15:11<00:00,  3.84it/s, loss=0.46] \n"
     ]
    },
    {
     "name": "stdout",
     "output_type": "stream",
     "text": [
      "Epoch 2/5 | Train Loss: 0.8794 | Train Acc: 0.8146 | Val Loss: 1.9696 | Val Acc: 0.6385 | LR: 0.000100\n",
      "Best model saved at epoch 2\n"
     ]
    },
    {
     "name": "stderr",
     "output_type": "stream",
     "text": [
      "Epoch 3/5: 100%|██████████| 3500/3500 [13:35<00:00,  4.29it/s, loss=0.547]\n"
     ]
    },
    {
     "name": "stdout",
     "output_type": "stream",
     "text": [
      "Epoch 3/5 | Train Loss: 0.7685 | Train Acc: 0.8375 | Val Loss: 1.9321 | Val Acc: 0.6558 | LR: 0.000100\n",
      "Best model saved at epoch 3\n"
     ]
    },
    {
     "name": "stderr",
     "output_type": "stream",
     "text": [
      "Epoch 4/5: 100%|██████████| 3500/3500 [12:07<00:00,  4.81it/s, loss=0.929]\n"
     ]
    },
    {
     "name": "stdout",
     "output_type": "stream",
     "text": [
      "Epoch 4/5 | Train Loss: 0.6707 | Train Acc: 0.8570 | Val Loss: 1.9292 | Val Acc: 0.6583 | LR: 0.000100\n",
      "Best model saved at epoch 4\n"
     ]
    },
    {
     "name": "stderr",
     "output_type": "stream",
     "text": [
      "Epoch 5/5: 100%|██████████| 3500/3500 [13:08<00:00,  4.44it/s, loss=1.29] \n"
     ]
    },
    {
     "name": "stdout",
     "output_type": "stream",
     "text": [
      "Epoch 5/5 | Train Loss: 0.5961 | Train Acc: 0.8713 | Val Loss: 1.9106 | Val Acc: 0.6668 | LR: 0.000100\n",
      "Best model saved at epoch 5\n"
     ]
    }
   ],
   "source": [
    "trainLoss, valLoss, valAccuracies = training(model, trainLoader, valLoader, lossFunction, optimizer, scheduler, epochs=5)"
   ]
  },
  {
   "cell_type": "markdown",
   "metadata": {},
   "source": [
    "Visualizing:"
   ]
  },
  {
   "cell_type": "code",
   "execution_count": 58,
   "metadata": {
    "ExecuteTime": {
     "end_time": "2025-04-20T07:55:34.017057Z",
     "start_time": "2025-04-20T07:55:33.535907Z"
    },
    "colab": {
     "base_uri": "https://localhost:8080/",
     "height": 666
    },
    "id": "IVKR7L4xppEI",
    "outputId": "0dfab737-62ec-4a08-8b96-6f54bba73b53"
   },
   "outputs": [
    {
     "data": {
      "text/plain": [
       "Text(0.5, 1.0, 'Validation Accuracy')"
      ]
     },
     "execution_count": 58,
     "metadata": {},
     "output_type": "execute_result"
    },
    {
     "data": {
      "image/png": "[encoded data removed]",
      "text/plain": [
       "<Figure size 1500x500 with 2 Axes>"
      ]
     },
     "metadata": {},
     "output_type": "display_data"
    }
   ],
   "source": [
    "plt.figure(figsize=(15, 5))\n",
    "\n",
    "# Plot loss\n",
    "plt.subplot(1, 3, 1)\n",
    "plt.plot(trainLoss, label='Training Loss')\n",
    "plt.plot(valLoss, label='Validation Loss')\n",
    "plt.xlabel('Epochs')\n",
    "plt.ylabel('Loss')\n",
    "plt.legend()\n",
    "plt.title('Training and Validation Loss')\n",
    "\n",
    "# Plot accuracy\n",
    "plt.subplot(1, 3, 2)\n",
    "plt.plot(valAccuracies, label='Validation Accuracy')\n",
    "plt.xlabel('Epochs')\n",
    "plt.ylabel('Accuracy')\n",
    "plt.legend()\n",
    "plt.title('Validation Accuracy')"
   ]
  },
  {
   "cell_type": "markdown",
   "metadata": {
    "id": "HLTDIB_hK4LW"
   },
   "source": [
    "## Evaluation - Part 3"
   ]
  },
  {
   "cell_type": "markdown",
   "metadata": {
    "id": "uYuQnhnK1-3O"
   },
   "source": [
    "###Running model on test set"
   ]
  },
  {
   "cell_type": "code",
   "execution_count": 59,
   "metadata": {
    "ExecuteTime": {
     "end_time": "2025-04-20T07:57:52.777277Z",
     "start_time": "2025-04-20T07:57:52.762688Z"
    },
    "id": "jyd-SUD82D9P"
   },
   "outputs": [],
   "source": [
    "model.eval()\n",
    "model.to(device)\n",
    "\n",
    "testDir = \"./face_data/dataset/test\""
   ]
  },
  {
   "cell_type": "code",
   "execution_count": 60,
   "metadata": {
    "ExecuteTime": {
     "end_time": "2025-04-20T08:17:05.312577Z",
     "start_time": "2025-04-20T07:58:10.746537Z"
    },
    "colab": {
     "base_uri": "https://localhost:8080/"
    },
    "id": "c3Q6v2142ENu",
    "outputId": "489cd33d-7eef-4f66-83bc-02bff342ac36"
   },
   "outputs": [
    {
     "name": "stdout",
     "output_type": "stream",
     "text": [
      "Test images: 35000\n",
      "Completed 7000 / 35000 images\n",
      "Completed 14000 / 35000 images\n",
      "Completed 21000 / 35000 images\n",
      "Completed 28000 / 35000 images\n",
      "Completed 35000 / 35000 images\n"
     ]
    }
   ],
   "source": [
    "results = []\n",
    "\n",
    "testImages = sorted(os.listdir(testDir))\n",
    "total = len(testImages)\n",
    "print(f\"Test images: {total}\")\n",
    "\n",
    "with torch.no_grad():\n",
    "    for i, imageName in enumerate(testImages, 1):\n",
    "        imagePath = os.path.join(testDir, imageName)\n",
    "        image = Image.open(imagePath).convert('RGB')\n",
    "        # Apply transformations (from part one)\n",
    "        image = test_transform(image).unsqueeze(0).to(device)\n",
    "\n",
    "        output = model(image)\n",
    "        pred = output.argmax(dim=1).item()\n",
    "\n",
    "        imageName = int(os.path.splitext(imageName)[0])\n",
    "        results.append({'image_name': imageName, 'label': pred})\n",
    "\n",
    "        if i % max(1, total // 5) == 0 or i == total:\n",
    "            print(f\"Completed {i} / {total} images\")\n"
   ]
  },
  {
   "cell_type": "markdown",
   "metadata": {},
   "source": [
    "Saving predictions to CSV"
   ]
  },
  {
   "cell_type": "code",
   "execution_count": 61,
   "metadata": {
    "ExecuteTime": {
     "end_time": "2025-04-20T08:27:17.757389Z",
     "start_time": "2025-04-20T08:27:17.582489Z"
    },
    "colab": {
     "base_uri": "https://localhost:8080/"
    },
    "id": "joE_vrgj2YwS",
    "outputId": "0df1909d-435a-4807-8577-9b2795778001"
   },
   "outputs": [
    {
     "name": "stdout",
     "output_type": "stream",
     "text": [
      "Predictions saved to result.csv\n"
     ]
    }
   ],
   "source": [
    "df = pd.DataFrame(results).sort_values(by='image_name')\n",
    "df.to_csv(\"result.csv\", index=False)\n",
    "print(\"Predictions saved to result.csv\")"
   ]
  },
  {
   "cell_type": "markdown",
   "metadata": {},
   "source": [
    "Fixing CSV Formatting"
   ]
  },
  {
   "cell_type": "code",
   "execution_count": 62,
   "metadata": {
    "ExecuteTime": {
     "end_time": "2025-04-20T08:27:21.183987Z",
     "start_time": "2025-04-20T08:27:21.080739Z"
    },
    "colab": {
     "base_uri": "https://localhost:8080/"
    },
    "id": "bAZurQTa2jjq",
    "outputId": "ad0d575a-bf09-46a6-ac9e-ec448598a3db"
   },
   "outputs": [
    {
     "name": "stdout",
     "output_type": "stream",
     "text": [
      "Formatted result.csv saved.\n"
     ]
    }
   ],
   "source": [
    "idx_to_class = {v: k for k, v in data.class_to_idx.items()}\n",
    "df['label'] = df['label'].map(idx_to_class)\n",
    "\n",
    "# adding file type ot name as required\n",
    "df['image_name'] = df['image_name'].astype(str) + '.jpg'\n",
    "\n",
    "df.to_csv(\"result.csv\", index=False)\n",
    "print(\"Formatted result.csv saved.\")"
   ]
  },
  {
   "cell_type": "code",
   "execution_count": 63,
   "metadata": {
    "ExecuteTime": {
     "end_time": "2025-04-20T08:27:24.399495Z",
     "start_time": "2025-04-20T08:27:24.340578Z"
    },
    "colab": {
     "base_uri": "https://localhost:8080/"
    },
    "id": "uvfTjXcF60S4",
    "outputId": "8ae16bdb-b0d8-40b5-a475-0cddb95688b3"
   },
   "outputs": [
    {
     "name": "stdout",
     "output_type": "stream",
     "text": [
      "file saved at: ./\n"
     ]
    }
   ],
   "source": [
    "csv_path = './'\n",
    "os.makedirs(csv_path, exist_ok=True)\n",
    "df.to_csv(os.path.join(csv_path, 'MobileNetResult.csv'), index=False)\n",
    "print(f\"file saved at: {csv_path}\")"
   ]
  }
 ],
 "metadata": {
  "accelerator": "GPU",
  "colab": {
   "gpuType": "T4",
   "provenance": []
  },
  "kernelspec": {
   "display_name": "Python 3 (ipykernel)",
   "language": "python",
   "name": "python3"
  },
  "language_info": {
   "name": "python"
  }
 },
 "nbformat": 4,
 "nbformat_minor": 0
}
